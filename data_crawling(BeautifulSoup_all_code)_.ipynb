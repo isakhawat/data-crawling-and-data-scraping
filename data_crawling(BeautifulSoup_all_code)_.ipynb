{
  "nbformat": 4,
  "nbformat_minor": 0,
  "metadata": {
    "colab": {
      "name": "data crawling(BeautifulSoup all code) .ipynb",
      "provenance": [],
      "toc_visible": true
    },
    "kernelspec": {
      "name": "python3",
      "display_name": "Python 3"
    }
  },
  "cells": [
    {
      "cell_type": "code",
      "metadata": {
        "id": "bMIf410kMtET",
        "colab_type": "code",
        "colab": {}
      },
      "source": [
        ""
      ],
      "execution_count": 0,
      "outputs": []
    },
    {
      "cell_type": "markdown",
      "metadata": {
        "id": "f1jRlHhlM88t",
        "colab_type": "text"
      },
      "source": [
        ""
      ]
    },
    {
      "cell_type": "code",
      "metadata": {
        "id": "d8P5OOKCNK65",
        "colab_type": "code",
        "colab": {}
      },
      "source": [
        "import urllib.request\n",
        "from bs4 import BeautifulSoup\n"
      ],
      "execution_count": 0,
      "outputs": []
    },
    {
      "cell_type": "code",
      "metadata": {
        "id": "EOJfCpg8NLTB",
        "colab_type": "code",
        "colab": {}
      },
      "source": [
        "#scraping web link\n",
        "address= 'https://www.rottentomatoes.com/m/incredibles_2/reviews/'\n"
      ],
      "execution_count": 0,
      "outputs": []
    },
    {
      "cell_type": "code",
      "metadata": {
        "id": "3JNdQa87NLeg",
        "colab_type": "code",
        "colab": {}
      },
      "source": [
        "\n",
        "page = urllib.request.urlopen(address)\n",
        "soup = BeautifulSoup(page,'html.parser')\n",
        "#print full html page of address\n",
        "print (soup.prettify())\n",
        "\n",
        "\n"
      ],
      "execution_count": 0,
      "outputs": []
    },
    {
      "cell_type": "markdown",
      "metadata": {
        "id": "oQlLRKQmOA9T",
        "colab_type": "text"
      },
      "source": [
        "# some simple ways to navigate that data structure"
      ]
    },
    {
      "cell_type": "code",
      "metadata": {
        "id": "p4jfmY6kNLoM",
        "colab_type": "code",
        "outputId": "2a81dc95-0700-4da5-a1a1-a587ae263627",
        "colab": {
          "base_uri": "https://localhost:8080/",
          "height": 34
        }
      },
      "source": [
        "soup.title"
      ],
      "execution_count": 0,
      "outputs": [
        {
          "output_type": "execute_result",
          "data": {
            "text/plain": [
              "<title>Incredibles 2 - Movie Reviews</title>"
            ]
          },
          "metadata": {
            "tags": []
          },
          "execution_count": 4
        }
      ]
    },
    {
      "cell_type": "code",
      "metadata": {
        "id": "Hk7Jux4qNLyB",
        "colab_type": "code",
        "outputId": "f38725cf-bf9b-4b5e-ba1e-a46d5078bf24",
        "colab": {
          "base_uri": "https://localhost:8080/",
          "height": 34
        }
      },
      "source": [
        "soup.title.name"
      ],
      "execution_count": 0,
      "outputs": [
        {
          "output_type": "execute_result",
          "data": {
            "text/plain": [
              "'title'"
            ]
          },
          "metadata": {
            "tags": []
          },
          "execution_count": 5
        }
      ]
    },
    {
      "cell_type": "code",
      "metadata": {
        "id": "tvM3TKP_OT4e",
        "colab_type": "code",
        "outputId": "e74adb9b-22ec-4f07-cd75-5d5b5c500988",
        "colab": {
          "base_uri": "https://localhost:8080/",
          "height": 34
        }
      },
      "source": [
        "soup.title.string"
      ],
      "execution_count": 0,
      "outputs": [
        {
          "output_type": "execute_result",
          "data": {
            "text/plain": [
              "'Incredibles 2 - Movie Reviews'"
            ]
          },
          "metadata": {
            "tags": []
          },
          "execution_count": 6
        }
      ]
    },
    {
      "cell_type": "code",
      "metadata": {
        "id": "Qvx0-AcwOT9D",
        "colab_type": "code",
        "outputId": "0514d135-effb-45f0-df52-770185e96a46",
        "colab": {
          "base_uri": "https://localhost:8080/",
          "height": 34
        }
      },
      "source": [
        "soup.title.parent.name"
      ],
      "execution_count": 0,
      "outputs": [
        {
          "output_type": "execute_result",
          "data": {
            "text/plain": [
              "'head'"
            ]
          },
          "metadata": {
            "tags": []
          },
          "execution_count": 7
        }
      ]
    },
    {
      "cell_type": "code",
      "metadata": {
        "id": "ZJXZwkyUOUBQ",
        "colab_type": "code",
        "outputId": "6b204b01-c42b-45ab-ee35-f3f8451facc1",
        "colab": {
          "base_uri": "https://localhost:8080/",
          "height": 34
        }
      },
      "source": [
        "soup.p"
      ],
      "execution_count": 0,
      "outputs": [
        {
          "output_type": "execute_result",
          "data": {
            "text/plain": [
              "<p class=\"topText bold\"></p>"
            ]
          },
          "metadata": {
            "tags": []
          },
          "execution_count": 8
        }
      ]
    },
    {
      "cell_type": "code",
      "metadata": {
        "id": "mXvsD0vTOUH0",
        "colab_type": "code",
        "outputId": "6a26bda6-28f8-4d1e-ad1d-956bd7a7b793",
        "colab": {
          "base_uri": "https://localhost:8080/",
          "height": 34
        }
      },
      "source": [
        "soup.p['class']"
      ],
      "execution_count": 0,
      "outputs": [
        {
          "output_type": "execute_result",
          "data": {
            "text/plain": [
              "['topText', 'bold']"
            ]
          },
          "metadata": {
            "tags": []
          },
          "execution_count": 9
        }
      ]
    },
    {
      "cell_type": "code",
      "metadata": {
        "id": "WswMRDFnOUMP",
        "colab_type": "code",
        "outputId": "fb8adf6d-7c18-411f-d578-1af539b29417",
        "colab": {
          "base_uri": "https://localhost:8080/",
          "height": 34
        }
      },
      "source": [
        "soup.a"
      ],
      "execution_count": 0,
      "outputs": [
        {
          "output_type": "execute_result",
          "data": {
            "text/plain": [
              "<a class=\"unstyled fontelloIcon icon-facebook-squared\" href=\"//www.facebook.com/rottentomatoes\" rel=\"noopener\" target=\"_blank\"></a>"
            ]
          },
          "metadata": {
            "tags": []
          },
          "execution_count": 10
        }
      ]
    },
    {
      "cell_type": "code",
      "metadata": {
        "id": "Z-3IDjk6OUFg",
        "colab_type": "code",
        "colab": {}
      },
      "source": [
        "\n",
        "soup.find_all('a')"
      ],
      "execution_count": 0,
      "outputs": []
    },
    {
      "cell_type": "code",
      "metadata": {
        "id": "UIfgQAlmOqIy",
        "colab_type": "code",
        "colab": {}
      },
      "source": [
        "soup.find_all('p')"
      ],
      "execution_count": 0,
      "outputs": []
    },
    {
      "cell_type": "code",
      "metadata": {
        "id": "xYB59zJeOvYu",
        "colab_type": "code",
        "outputId": "02d89d5a-a244-47f6-989f-fe8892a3d512",
        "colab": {
          "base_uri": "https://localhost:8080/",
          "height": 34
        }
      },
      "source": [
        " "
      ],
      "execution_count": 0,
      "outputs": [
        {
          "output_type": "execute_result",
          "data": {
            "text/plain": [
              "[<title>Incredibles 2 - Movie Reviews</title>]"
            ]
          },
          "metadata": {
            "tags": []
          },
          "execution_count": 14
        }
      ]
    },
    {
      "cell_type": "markdown",
      "metadata": {
        "id": "qGgY4b1YPIql",
        "colab_type": "text"
      },
      "source": [
        "# common task is extracting all"
      ]
    },
    {
      "cell_type": "code",
      "metadata": {
        "id": "rlZayCKCPKhH",
        "colab_type": "code",
        "colab": {}
      },
      "source": [
        "#all the URLs found within a page’s <a> tags:\n",
        "\n",
        "for link in soup.find_all('a'):\n",
        "    print(link.get('href'))"
      ],
      "execution_count": 0,
      "outputs": []
    },
    {
      "cell_type": "code",
      "metadata": {
        "id": "J9jozcgBPKug",
        "colab_type": "code",
        "colab": {}
      },
      "source": [
        "#extracting all the text from a page:\n",
        "print(soup.get_text())"
      ],
      "execution_count": 0,
      "outputs": []
    },
    {
      "cell_type": "code",
      "metadata": {
        "id": "VZ2KfwiZPKyu",
        "colab_type": "code",
        "colab": {}
      },
      "source": [
        " "
      ],
      "execution_count": 0,
      "outputs": []
    },
    {
      "cell_type": "code",
      "metadata": {
        "id": "Wdimlz6WPK5x",
        "colab_type": "code",
        "colab": {}
      },
      "source": [
        " "
      ],
      "execution_count": 0,
      "outputs": []
    },
    {
      "cell_type": "code",
      "metadata": {
        "id": "l8tuEeXhPLEZ",
        "colab_type": "code",
        "colab": {}
      },
      "source": [
        " "
      ],
      "execution_count": 0,
      "outputs": []
    },
    {
      "cell_type": "code",
      "metadata": {
        "id": "_Uqwk0MDPLLm",
        "colab_type": "code",
        "colab": {}
      },
      "source": [
        " "
      ],
      "execution_count": 0,
      "outputs": []
    },
    {
      "cell_type": "code",
      "metadata": {
        "id": "SX700jPmPLIz",
        "colab_type": "code",
        "colab": {}
      },
      "source": [
        " "
      ],
      "execution_count": 0,
      "outputs": []
    },
    {
      "cell_type": "code",
      "metadata": {
        "id": "tMPPmOV5PK3Q",
        "colab_type": "code",
        "colab": {}
      },
      "source": [
        " "
      ],
      "execution_count": 0,
      "outputs": []
    },
    {
      "cell_type": "code",
      "metadata": {
        "id": "jjNP7WRiTb6Z",
        "colab_type": "code",
        "colab": {}
      },
      "source": [
        " "
      ],
      "execution_count": 0,
      "outputs": []
    }
  ]
}