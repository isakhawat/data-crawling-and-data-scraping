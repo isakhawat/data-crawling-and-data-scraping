{
  "nbformat": 4,
  "nbformat_minor": 0,
  "metadata": {
    "colab": {
      "name": " Web Scraping with Python and Beautiful Soup.ipynb",
      "provenance": []
    },
    "kernelspec": {
      "name": "python3",
      "display_name": "Python 3"
    }
  },
  "cells": [
    {
      "cell_type": "markdown",
      "metadata": {
        "id": "lOWFmkg8OqtW",
        "colab_type": "text"
      },
      "source": [
        ""
      ]
    },
    {
      "cell_type": "code",
      "metadata": {
        "id": "Sv0BaqIfOkWV",
        "colab_type": "code",
        "colab": {}
      },
      "source": [
        "import bs4"
      ],
      "execution_count": 0,
      "outputs": []
    },
    {
      "cell_type": "code",
      "metadata": {
        "id": "NqgVxn0AQ948",
        "colab_type": "code",
        "colab": {}
      },
      "source": [
        "from bs4 import BeautifulSoup as soup  # HTML data structure\n",
        "from urllib.request import urlopen as uReq  # Web client\n"
      ],
      "execution_count": 0,
      "outputs": []
    },
    {
      "cell_type": "code",
      "metadata": {
        "id": "Lm1R8-kjQ-Bw",
        "colab_type": "code",
        "colab": {}
      },
      "source": [
        "# URl to web scrap from.\n",
        "# in this example we web scrap graphics cards from Newegg.com\n",
        "page_url = \"https://www.newegg.com/p/pl?d=GTX&N=-1&IsNodeId=1&bop=And&Page=1&PageSize=36&order=BESTMATCH\"\n",
        "\n"
      ],
      "execution_count": 0,
      "outputs": []
    },
    {
      "cell_type": "code",
      "metadata": {
        "id": "x5CyGz5lQ-Fr",
        "colab_type": "code",
        "colab": {}
      },
      "source": [
        "# opens the connection and downloads html page from url\n",
        "uClient = uReq(page_url)\n"
      ],
      "execution_count": 0,
      "outputs": []
    },
    {
      "cell_type": "code",
      "metadata": {
        "id": "5J5Y4Z92esYx",
        "colab_type": "code",
        "colab": {}
      },
      "source": [
        "page_html = uClient.read()"
      ],
      "execution_count": 0,
      "outputs": []
    },
    {
      "cell_type": "code",
      "metadata": {
        "id": "c8KA-AkFQ-Ju",
        "colab_type": "code",
        "colab": {}
      },
      "source": [
        "# parses html into a soup data structure to traverse html\n",
        "# as if it were a json data type.\n",
        "page_soup = soup(uClient.read(), \"html.parser\")\n",
        "uClient.close()\n"
      ],
      "execution_count": 0,
      "outputs": []
    },
    {
      "cell_type": "code",
      "metadata": {
        "id": "WHm6j2TfIQVF",
        "colab_type": "code",
        "outputId": "1f3426a8-4339-4f2c-803e-ab4f2bf44acd",
        "colab": {
          "base_uri": "https://localhost:8080/",
          "height": 163
        }
      },
      "source": [
        "print(soup.prettify())"
      ],
      "execution_count": 0,
      "outputs": [
        {
          "output_type": "error",
          "ename": "TypeError",
          "evalue": "ignored",
          "traceback": [
            "\u001b[0;31m---------------------------------------------------------------------------\u001b[0m",
            "\u001b[0;31mTypeError\u001b[0m                                 Traceback (most recent call last)",
            "\u001b[0;32m<ipython-input-7-df8ea84c4b29>\u001b[0m in \u001b[0;36m<module>\u001b[0;34m()\u001b[0m\n\u001b[0;32m----> 1\u001b[0;31m \u001b[0mprint\u001b[0m\u001b[0;34m(\u001b[0m\u001b[0msoup\u001b[0m\u001b[0;34m.\u001b[0m\u001b[0mprettify\u001b[0m\u001b[0;34m(\u001b[0m\u001b[0;34m)\u001b[0m\u001b[0;34m)\u001b[0m\u001b[0;34m\u001b[0m\u001b[0;34m\u001b[0m\u001b[0m\n\u001b[0m",
            "\u001b[0;31mTypeError\u001b[0m: prettify() missing 1 required positional argument: 'self'"
          ]
        }
      ]
    },
    {
      "cell_type": "code",
      "metadata": {
        "id": "KAVE5PzCRRTW",
        "colab_type": "code",
        "colab": {}
      },
      "source": [
        "# finds each product from the store page\n",
        " containers = page_soup.findAll(\"div\", {\"class\": \"item-container\"})\n",
        "  bhgxx2 col-12-12\n"
      ],
      "execution_count": 0,
      "outputs": []
    },
    {
      "cell_type": "code",
      "metadata": {
        "id": "Tb56Kk8ORRXF",
        "colab_type": "code",
        "colab": {}
      },
      "source": [
        "# name the output file to write to local disk\n",
        "out_filename = \"graphics_cards.csv\"\n"
      ],
      "execution_count": 0,
      "outputs": []
    },
    {
      "cell_type": "code",
      "metadata": {
        "id": "1ifRP5vxRRdg",
        "colab_type": "code",
        "colab": {}
      },
      "source": [
        "# header of csv file to be written\n",
        "headers = \"brand,product_name,shipping \\n\"\n"
      ],
      "execution_count": 0,
      "outputs": []
    },
    {
      "cell_type": "code",
      "metadata": {
        "id": "t8tS3V01RRq4",
        "colab_type": "code",
        "outputId": "bc3b1da8-8ec5-4d81-8e84-de32cfcf6c39",
        "colab": {
          "base_uri": "https://localhost:8080/",
          "height": 34
        }
      },
      "source": [
        "# opens file, and writes headers\n",
        "f = open(out_filename, \"w\")\n",
        "f.write(headers)\n"
      ],
      "execution_count": 0,
      "outputs": [
        {
          "output_type": "execute_result",
          "data": {
            "text/plain": [
              "29"
            ]
          },
          "metadata": {
            "tags": []
          },
          "execution_count": 9
        }
      ]
    },
    {
      "cell_type": "code",
      "metadata": {
        "id": "bgoNgzlPRRuD",
        "colab_type": "code",
        "colab": {}
      },
      "source": [
        "# loops over each product and grabs attributes about\n",
        "# each product\n",
        "for container in containers:\n",
        "    # Finds all link tags \"a\" from within the first div.\n",
        "    make_rating_sp = container.div.select(\"a\")\n",
        "\n",
        "    # Grabs the title from the image title attribute\n",
        "    # Then does proper casing using .title()\n",
        "    brand = make_rating_sp[0].img[\"title\"].title()\n",
        "\n",
        "    # Grabs the text within the second \"(a)\" tag from within\n",
        "    # the list of queries.\n",
        "    product_name = container.div.select(\"a\")[2].text\n",
        "\n",
        "    # Grabs the product shipping information by searching\n",
        "    # all lists with the class \"price-ship\".\n",
        "    # Then cleans the text of white space with strip()\n",
        "    # Cleans the strip of \"Shipping $\" if it exists to just get number\n",
        "    shipping = container.findAll(\"li\", {\"class\": \"price-ship\"})[0].text.strip().replace(\"$\", \"\").replace(\" Shipping\", \"\")\n"
      ],
      "execution_count": 0,
      "outputs": []
    },
    {
      "cell_type": "code",
      "metadata": {
        "id": "fF-I2LS7RRyW",
        "colab_type": "code",
        "outputId": "69cf408f-b041-4042-e1f7-a3010761fa20",
        "colab": {
          "base_uri": "https://localhost:8080/",
          "height": 197
        }
      },
      "source": [
        "# prints the dataset to console\n",
        "    print(\"brand: \" + brand + \"\\n\")\n",
        "    print(\"product_name: \" + product_name + \"\\n\")\n",
        "    print(\"shipping: \" + shipping + \"\\n\")\n"
      ],
      "execution_count": 0,
      "outputs": [
        {
          "output_type": "error",
          "ename": "NameError",
          "evalue": "ignored",
          "traceback": [
            "\u001b[0;31m---------------------------------------------------------------------------\u001b[0m",
            "\u001b[0;31mNameError\u001b[0m                                 Traceback (most recent call last)",
            "\u001b[0;32m<ipython-input-20-5b4ac3fd6b0d>\u001b[0m in \u001b[0;36m<module>\u001b[0;34m()\u001b[0m\n\u001b[0;32m----> 1\u001b[0;31m \u001b[0mprint\u001b[0m\u001b[0;34m(\u001b[0m\u001b[0;34m\"brand: \"\u001b[0m \u001b[0;34m+\u001b[0m \u001b[0mbrand\u001b[0m \u001b[0;34m+\u001b[0m \u001b[0;34m\"\\n\"\u001b[0m\u001b[0;34m)\u001b[0m\u001b[0;34m\u001b[0m\u001b[0;34m\u001b[0m\u001b[0m\n\u001b[0m\u001b[1;32m      2\u001b[0m \u001b[0mprint\u001b[0m\u001b[0;34m(\u001b[0m\u001b[0;34m\"product_name: \"\u001b[0m \u001b[0;34m+\u001b[0m \u001b[0mproduct_name\u001b[0m \u001b[0;34m+\u001b[0m \u001b[0;34m\"\\n\"\u001b[0m\u001b[0;34m)\u001b[0m\u001b[0;34m\u001b[0m\u001b[0;34m\u001b[0m\u001b[0m\n\u001b[1;32m      3\u001b[0m \u001b[0mprint\u001b[0m\u001b[0;34m(\u001b[0m\u001b[0;34m\"shipping: \"\u001b[0m \u001b[0;34m+\u001b[0m \u001b[0mshipping\u001b[0m \u001b[0;34m+\u001b[0m \u001b[0;34m\"\\n\"\u001b[0m\u001b[0;34m)\u001b[0m\u001b[0;34m\u001b[0m\u001b[0;34m\u001b[0m\u001b[0m\n",
            "\u001b[0;31mNameError\u001b[0m: name 'brand' is not defined"
          ]
        }
      ]
    },
    {
      "cell_type": "code",
      "metadata": {
        "id": "ncZYIJ0URRnc",
        "colab_type": "code",
        "colab": {}
      },
      "source": [
        ""
      ],
      "execution_count": 0,
      "outputs": []
    },
    {
      "cell_type": "code",
      "metadata": {
        "id": "Zh-twRpBRRk9",
        "colab_type": "code",
        "colab": {}
      },
      "source": [
        ""
      ],
      "execution_count": 0,
      "outputs": []
    },
    {
      "cell_type": "code",
      "metadata": {
        "id": "fDBXWdWDRRhI",
        "colab_type": "code",
        "colab": {}
      },
      "source": [
        ""
      ],
      "execution_count": 0,
      "outputs": []
    },
    {
      "cell_type": "code",
      "metadata": {
        "id": "e0_p6OreRRaj",
        "colab_type": "code",
        "colab": {}
      },
      "source": [
        ""
      ],
      "execution_count": 0,
      "outputs": []
    }
  ]
}