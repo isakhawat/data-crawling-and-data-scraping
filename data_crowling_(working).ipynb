{
  "nbformat": 4,
  "nbformat_minor": 0,
  "metadata": {
    "kernelspec": {
      "display_name": "Python 3",
      "language": "python",
      "name": "python3"
    },
    "language_info": {
      "codemirror_mode": {
        "name": "ipython",
        "version": 3
      },
      "file_extension": ".py",
      "mimetype": "text/x-python",
      "name": "python",
      "nbconvert_exporter": "python",
      "pygments_lexer": "ipython3",
      "version": "3.7.1"
    },
    "colab": {
      "name": "data crowling (working).ipynb",
      "provenance": [],
      "collapsed_sections": []
    }
  },
  "cells": [
    {
      "cell_type": "markdown",
      "metadata": {
        "id": "jG1GdEQrr3hD",
        "colab_type": "text"
      },
      "source": [
        ""
      ]
    },
    {
      "cell_type": "code",
      "metadata": {
        "id": "VeMq7Or7qNVq",
        "colab_type": "code",
        "colab": {}
      },
      "source": [
        "import bs4\n"
      ],
      "execution_count": 0,
      "outputs": []
    },
    {
      "cell_type": "code",
      "metadata": {
        "id": "eeNjx_PLqNWB",
        "colab_type": "code",
        "colab": {}
      },
      "source": [
        "from bs4 import BeautifulSoup as soup  # HTML data structure\n",
        "from urllib.request import urlopen as uReq  # Web client\n"
      ],
      "execution_count": 0,
      "outputs": []
    },
    {
      "cell_type": "code",
      "metadata": {
        "id": "ycMvjg2iqNWK",
        "colab_type": "code",
        "colab": {}
      },
      "source": [
        "# URl to web scrap from.\n",
        "# in this example we web scrap graphics cards from Newegg.com\n",
        "page_url = \"https://www.newegg.com/p/pl?d=GTX&N=-1&IsNodeId=1&bop=And&Page=1&PageSize=36&order=BESTMATCH\"\n",
        " \n"
      ],
      "execution_count": 0,
      "outputs": []
    },
    {
      "cell_type": "code",
      "metadata": {
        "id": "iNqxvtb6qNWS",
        "colab_type": "code",
        "colab": {}
      },
      "source": [
        "# opens the connection and downloads html page from url\n",
        "uClient = uReq(page_url)\n"
      ],
      "execution_count": 0,
      "outputs": []
    },
    {
      "cell_type": "code",
      "metadata": {
        "id": "h9AfPlV9qNWf",
        "colab_type": "code",
        "colab": {}
      },
      "source": [
        "page_html = uClient.read()"
      ],
      "execution_count": 0,
      "outputs": []
    },
    {
      "cell_type": "code",
      "metadata": {
        "id": "aZNRYUUxfyRQ",
        "colab_type": "code",
        "outputId": "1b4b446f-b22a-40f0-c159-1d05b28ce8a6",
        "colab": {
          "base_uri": "https://localhost:8080/",
          "height": 1000
        }
      },
      "source": [
        "soup(page_html, \"html.parser\")"
      ],
      "execution_count": 0,
      "outputs": [
        {
          "output_type": "execute_result",
          "data": {
            "text/plain": [
              "<!DOCTYPE html>\n",
              "\n",
              "<html lang=\"en\" xmlns=\"http://www.w3.org/1999/xhtml\">\n",
              "<head>\n",
              "<title>Are you a human?</title>\n",
              "<meta content=\"IE=EDGE\" http-equiv=\"X-UA-Compatible\"/><meta charset=\"utf-8\"/>\n",
              "<link href=\"//c1.neweggimages.com/WebResource/Themes/2005/Nest/Newegg.ico\" rel=\"shortcut icon\" type=\"image/x-icon\"/>\n",
              "<link href=\"https://fonts.googleapis.com/css?family=Open+Sans:400,300,300italic,400italic,700,700italic|Open+Sans+Condensed:300,300italic,700\" rel=\"stylesheet\" type=\"text/css\"/>\n",
              "<style type=\"text/css\">\n",
              "p{font-size:16px;color:#4d4d4d;padding:0;margin:0 0 5px}a img,a:hover img,a:visited img{border:0}.button-primary,.button-primary:focus,.button-primary:link,.button-primary:visited{font-family:'Open Sans Condensed','Arial Narrow','Helvetica Narrow',arial,helvetica,sans-serif;letter-spacing:1px;font-size:14px;font-weight:700;font-stretch:condensed;text-align:center;text-decoration:none;cursor:pointer;border-radius:4px;border:2px solid #E68626;display:inline-block;padding:9px 15px;margin:15px 0 0;outline:0;color:#552F00;background-color:#FFC010;background:linear-gradient(to bottom,#FFC010,#F9A21B);text-transform:uppercase}h1,h2{padding:0}.button-primary:active,.button-primary:hover{color:#552F00;background-color:#F9A21B;background:linear-gradient(to bottom,#F9A21B,#FFC010);border-color:#E68626}h1{margin:0;font-size:100px;line-height:120px;font-weight:700;color:#33425a}h2{color:#cc4e00;font-size:29px;margin:10px 0 20px}\n",
              ".lds-ripple{display:inline-block;position:relative;width:64px;height:64px}.lds-ripple div{position:absolute;border:4px solid #cc4e00;opacity:1;border-radius:50%;animation:lds-ripple 1s cubic-bezier(0,.2,.8,1) infinite}.lds-ripple div:nth-child(2){animation-delay:-.5s}@keyframes lds-ripple{0%{top:28px;left:28px;width:0;height:0;opacity:1}100%{top:-1px;left:-1px;width:58px;height:58px;opacity:0}}\n",
              "</style>\n",
              "<script src=\"//c1.neweggimages.com/WebResource/Scripts/USA/TP_jQueryPlugin/jquery-1.10.2.min.js?purge=1\" type=\"text/javascript\"></script>\n",
              "<script src=\"https://www.google.com/recaptcha/api.js?render=6LdAn3UUAAAAAKt8pKdAdZf83OwfA2QhtacSvywE\"></script>\n",
              "<script type=\"text/javascript\">\n",
              "var win = jQuery(this);\n",
              "if (win.width() < 900) {\n",
              "    window.resizeTo(900, win.height());\n",
              "}\n",
              "var why = '0';\n",
              "function getReferer() {\n",
              "    var reg = new RegExp(\"(^|&)referer=([^&]*)(&|$)\");\n",
              "    var r = window.location.search.substr(1).match(reg);\n",
              "    var referer = window.location.origin;\n",
              "    if (r) {\n",
              "        referer = unescape(r[2]);\n",
              "    }\n",
              "    if (referer.indexOf('?') > 0) {\n",
              "        referer += '&';\n",
              "    } else {\n",
              "        referer += '?';\n",
              "    }\n",
              "    referer += 'recaptcha=pass';\n",
              "\n",
              "    return referer;\n",
              "}\n",
              "var postEventData = function (refer) {\n",
              "    var items = location.hostname.split('.');\n",
              "    items.shift();\n",
              "    var topDomain = items.join('.');\n",
              "    var reg = /^https?\\:\\/\\/\\w+\\.([^\\/\\s]+)/;\n",
              "    var match = refer.match(reg);\n",
              "    if(match){\n",
              "        if(match[1] !== topDomain) {\n",
              "            refer = location.origin;\n",
              "        }\n",
              "    }\n",
              "    else {\n",
              "        refer = location.origin+'/'+refer.replace(/^\\//,'');\n",
              "    }\n",
              "    jQuery.ajax({\n",
              "        type: \"POST\",\n",
              "        url: \"https://pf.newegg.com/r3\",\n",
              "        data: JSON.stringify({c: document.cookie }),\n",
              "        dataType: \"json\",\n",
              "        contentType: \"application/json\",\n",
              "        timeout:2000,\n",
              "        success: function () {\n",
              "            window.location.href = refer;\n",
              "        }\n",
              "    }).fail(function () {\n",
              "        window.location.href = refer;\n",
              "    });\n",
              "};\n",
              "grecaptcha.ready(function() {\n",
              "    grecaptcha.execute('6LdAn3UUAAAAAKt8pKdAdZf83OwfA2QhtacSvywE', {action: 'recaptcha'})\n",
              "    .then(function(token) {\n",
              "        jQuery.post(window.location.href, { t: token,t2:'s1', cookieEnabled: !!navigator.cookieEnabled, why: why }, function (data, status) {\n",
              "            if (data === 'success') {\n",
              "                var refer = getReferer();\n",
              "                postEventData(refer);\n",
              "                var noprotocl = refer.replace(\"http://\", \"\").replace(\"https://\", \"\");\n",
              "                var questionMarkLocation = noprotocl.indexOf(\"?\");\n",
              "                var label = questionMarkLocation > 0 ? noprotocl.slice(0, questionMarkLocation) : noprotocl;\n",
              "                ga('send', 'event', 'Captcha', 'Click', label);\n",
              "                \n",
              "            } else {\n",
              "                window.location.href = window.location.origin + window.location.pathname + '?' + 'itn=true&' + (location.search || '?').substring(1);\n",
              "            }\n",
              "        });\n",
              "    });\n",
              "});\n",
              "\n",
              "(function (i, s, o, g, r, a, m) {\n",
              "    i['GoogleAnalyticsObject'] = r; i[r] = i[r] || function () {\n",
              "        (i[r].q = i[r].q || []).push(arguments)\n",
              "    }, i[r].l = 1 * new Date(); a = s.createElement(o),\n",
              "    m = s.getElementsByTagName(o)[0]; a.async = 1; a.src = g; m.parentNode.insertBefore(a, m)\n",
              "})(window, document, 'script', 'https://www.google-analytics.com/analytics.js', 'ga');\n",
              "ga('create', 'UA-1147542-13', 'auto');\n",
              "ga('send', 'pageview');\n",
              "</script>\n",
              "</head>\n",
              "<body style=\"font-family: 'Open Sans', Helvetica, Arial, sans-serif; line-height: 1.36;\">\n",
              "<div style=\"width: 760px;overflow: hidden;margin:120px auto;\">\n",
              "<div style=\"float: left;padding: 40px 20px 40px 40px;\">\n",
              "<a href=\"https://www.newegg.com/\" style=\"border: none;\">\n",
              "<img alt=\"\" height=\"102\" src=\"//images10.newegg.com/WebResource/Themes/2005/Nest/neLogoUS.1.png\" width=\"216\"/>\n",
              "</a>\n",
              "</div>\n",
              "<div style=\"float: right;border-left: 1px solid #ccc; padding: 40px 40px 70px 40px;\">\n",
              "<script type=\"text/javascript\">\n",
              "var cookiesEnable=\"cookie\"in document&&(document.cookie.length>0||(document.cookie=\"test\").indexOf.call(document.cookie,\"test\")>-1);cookiesEnable||document.write(\"<p>Please enable cookie to continue.</p>\");\n",
              "</script>\n",
              "<h1>Robot?</h1><h2>That's not you, right?</h2><p>Of course you're not, just assure us below.</p>\n",
              "<p>If you have any questions, please give us a <a id=\"newegg_footer_feedback\" onclick=\"javascript:newegg_inhouse_feedback &amp;&amp; newegg_inhouse_feedback.show();\" style=\"cursor: pointer;text-decoration: underline;\" title=\"Feedback\">Feedback</a>.</p>\n",
              "<div class=\"lds-ripple\"><div></div><div></div></div>\n",
              "<p>detecting...</p>\n",
              "</div>\n",
              "<script type=\"text/javascript\">\n",
              "var _na = _na || [];\n",
              "(function() {\n",
              "  var na = document.createElement('script'); na.type = 'text/javascript'; na.async = true;\n",
              "  na.src = 'https://pf.newegg.com/na.js';\n",
              "  var s = document.getElementsByTagName('script')[0]; s.parentNode.insertBefore(na, s);\n",
              "})();\n",
              "var newegg_inhouse_feedback=null,newegg_inhouse_search_feedback=null;function global_newegg_feedback_system(){null==newegg_inhouse_feedback&&(newegg_inhouse_feedback=new neweggFeedback.NeweggSurvey({}))}!function(){var e=document.location.protocol;if(\"http:\"==e||\"https:\"==e){var n=document.createElement(\"script\");n.type=\"text/javascript\",n.async=!0,n.src=\"//promotions.newegg.com/Newegg/Survey/newegg-feedback.min.js\";var g=document.getElementsByTagName(\"head\")[0].childNodes[0];g.parentNode.insertBefore(n,g),n.onload=function(){global_newegg_feedback_system()}}}();\n",
              "var Web={StateManager:{Cookies:{get:function(e){for(var t=document.cookie.split(\";\"),n=0;n<t.length;n++){var o=t[n].split(\"=\");if(e==decodeURIComponent(o[0].trim()))return unescape(o[1])}return null},Name:{UTMA:\"__utma\",NVTC:\"NVTC\",NID:\"NV_NID\",SPT:\"NV_SPT\"}}}};\n",
              "</script>\n",
              "</div>\n",
              "</body>\n",
              "</html>"
            ]
          },
          "metadata": {
            "tags": []
          },
          "execution_count": 115
        }
      ]
    },
    {
      "cell_type": "code",
      "metadata": {
        "id": "3E-eF5dtg1W1",
        "colab_type": "code",
        "colab": {}
      },
      "source": [
        "page_soup.h1"
      ],
      "execution_count": 0,
      "outputs": []
    },
    {
      "cell_type": "code",
      "metadata": {
        "id": "inkI_-0cqNWu",
        "colab_type": "code",
        "colab": {}
      },
      "source": [
        "# parses html into a soup data structure to traverse html\n",
        "# as if it were a json data type.\n",
        "page_soup = soup(uClient.read(), \"html.parser\")\n"
      ],
      "execution_count": 0,
      "outputs": []
    },
    {
      "cell_type": "code",
      "metadata": {
        "id": "V4Y2V11OgpPu",
        "colab_type": "code",
        "colab": {}
      },
      "source": [
        "soup.h1"
      ],
      "execution_count": 0,
      "outputs": []
    },
    {
      "cell_type": "code",
      "metadata": {
        "id": "zhMcxkuJgp-j",
        "colab_type": "code",
        "colab": {}
      },
      "source": [
        "uClient.close()"
      ],
      "execution_count": 0,
      "outputs": []
    },
    {
      "cell_type": "code",
      "metadata": {
        "id": "Ya3HuI9mqNW_",
        "colab_type": "code",
        "colab": {}
      },
      "source": [
        "# finds each product from the store page\n",
        " containers = page_soup.find_all(\"div\", {\"class\":\"item-container\"})\n",
        "  "
      ],
      "execution_count": 0,
      "outputs": []
    },
    {
      "cell_type": "code",
      "metadata": {
        "id": "uPQ0ih7VmNng",
        "colab_type": "code",
        "outputId": "d5b356a6-57cf-4d0e-d079-f5b32e8d3b1e",
        "colab": {
          "base_uri": "https://localhost:8080/",
          "height": 34
        }
      },
      "source": [
        "len(containers)"
      ],
      "execution_count": 0,
      "outputs": [
        {
          "output_type": "execute_result",
          "data": {
            "text/plain": [
              "0"
            ]
          },
          "metadata": {
            "tags": []
          },
          "execution_count": 85
        }
      ]
    },
    {
      "cell_type": "code",
      "metadata": {
        "id": "4IP2x_UFqNXQ",
        "colab_type": "code",
        "colab": {}
      },
      "source": [
        "# name the output file to write to local disk\n",
        "out_filename = \"graphics_cards.csv\"\n"
      ],
      "execution_count": 0,
      "outputs": []
    },
    {
      "cell_type": "code",
      "metadata": {
        "id": "xjvtDoLTqNXe",
        "colab_type": "code",
        "colab": {}
      },
      "source": [
        " "
      ],
      "execution_count": 0,
      "outputs": []
    },
    {
      "cell_type": "code",
      "metadata": {
        "id": "o_nkAzUXqNXl",
        "colab_type": "code",
        "colab": {}
      },
      "source": [
        "# header of csv file to be written\n",
        "headers = \"brand,product_name,shipping \\n\""
      ],
      "execution_count": 0,
      "outputs": []
    },
    {
      "cell_type": "code",
      "metadata": {
        "id": "L7hd8SdQtxQa",
        "colab_type": "code",
        "outputId": "4bda4066-8472-4f34-cadf-e25d916c247e",
        "colab": {
          "base_uri": "https://localhost:8080/",
          "height": 34
        }
      },
      "source": [
        "# opens file, and writes headers\n",
        "f = open(out_filename, \"w\")\n",
        "f.write(headers)"
      ],
      "execution_count": 0,
      "outputs": [
        {
          "output_type": "execute_result",
          "data": {
            "text/plain": [
              "29"
            ]
          },
          "metadata": {
            "tags": []
          },
          "execution_count": 30
        }
      ]
    },
    {
      "cell_type": "code",
      "metadata": {
        "id": "wCCWCmPFtyFT",
        "colab_type": "code",
        "colab": {}
      },
      "source": [
        "# loops over each product and grabs attributes about\n",
        "# each product\n",
        "for container in containers:\n",
        "    # Finds all link tags \"a\" from within the first div.\n",
        "    make_rating_sp = container.div.select(\"a\")\n",
        "\n",
        "    # Grabs the title from the image title attribute\n",
        "    # Then does proper casing using .title()\n",
        "    brand = make_rating_sp[0].img[\"title\"].title()\n",
        "\n",
        "    # Grabs the text within the second \"(a)\" tag from within\n",
        "    # the list of queries.\n",
        "    product_name = container.div.select(\"a\")[2].text\n",
        "\n",
        "    # Grabs the product shipping information by searching\n",
        "    # all lists with the class \"price-ship\".\n",
        "    # Then cleans the text of white space with strip()\n",
        "    # Cleans the strip of \"Shipping $\" if it exists to just get number\n",
        "    shipping = container.findAll(\"li\", {\"class\": \"price-ship\"})[0].text.strip().replace(\"$\", \"\").replace(\" Shipping\", \"\")\n",
        "    \n",
        "     # prints the dataset to console\n",
        "    print(\"brand: \"+ brand +\"\\n\") \n",
        "    print(\"product_name: \"+ product_name +\"\\n\") \n",
        "    print(\"shipping: \"+ shipping +\"\\n\")  \n",
        "    \n",
        "# writes the dataset to file\n",
        "    f.write(brand + \", \" + product_name.replace(\",\", \"|\") + \", \" + shipping + \"\\n\")\n",
        "\n",
        "\n",
        "   \n",
        "    \n",
        "    "
      ],
      "execution_count": 0,
      "outputs": []
    },
    {
      "cell_type": "code",
      "metadata": {
        "id": "BIdgWJxfubL7",
        "colab_type": "code",
        "colab": {}
      },
      "source": [
        "import pandas as pd\n",
        "data =  pd.read_csv('graphics_cards.csv')"
      ],
      "execution_count": 0,
      "outputs": []
    },
    {
      "cell_type": "code",
      "metadata": {
        "id": "etU9yxyyuojU",
        "colab_type": "code",
        "outputId": "c530e348-b420-4e23-a328-bd4e1f6c6925",
        "colab": {
          "base_uri": "https://localhost:8080/",
          "height": 47
        }
      },
      "source": [
        "data.head()\n"
      ],
      "execution_count": 0,
      "outputs": [
        {
          "output_type": "execute_result",
          "data": {
            "text/html": [
              "<div>\n",
              "<style scoped>\n",
              "    .dataframe tbody tr th:only-of-type {\n",
              "        vertical-align: middle;\n",
              "    }\n",
              "\n",
              "    .dataframe tbody tr th {\n",
              "        vertical-align: top;\n",
              "    }\n",
              "\n",
              "    .dataframe thead th {\n",
              "        text-align: right;\n",
              "    }\n",
              "</style>\n",
              "<table border=\"1\" class=\"dataframe\">\n",
              "  <thead>\n",
              "    <tr style=\"text-align: right;\">\n",
              "      <th></th>\n",
              "      <th>brand</th>\n",
              "      <th>product_name</th>\n",
              "      <th>shipping</th>\n",
              "    </tr>\n",
              "  </thead>\n",
              "  <tbody>\n",
              "  </tbody>\n",
              "</table>\n",
              "</div>"
            ],
            "text/plain": [
              "Empty DataFrame\n",
              "Columns: [brand, product_name, shipping ]\n",
              "Index: []"
            ]
          },
          "metadata": {
            "tags": []
          },
          "execution_count": 39
        }
      ]
    },
    {
      "cell_type": "code",
      "metadata": {
        "id": "pTmSJ7e7txNH",
        "colab_type": "code",
        "colab": {}
      },
      "source": [
        "f.close()  # Close the file"
      ],
      "execution_count": 0,
      "outputs": []
    },
    {
      "cell_type": "code",
      "metadata": {
        "id": "oDijpR_xtxJR",
        "colab_type": "code",
        "colab": {}
      },
      "source": [
        ""
      ],
      "execution_count": 0,
      "outputs": []
    },
    {
      "cell_type": "code",
      "metadata": {
        "id": "YSHAkpDItxFF",
        "colab_type": "code",
        "colab": {}
      },
      "source": [
        ""
      ],
      "execution_count": 0,
      "outputs": []
    }
  ]
}