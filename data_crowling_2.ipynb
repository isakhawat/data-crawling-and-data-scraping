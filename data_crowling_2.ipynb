{
  "nbformat": 4,
  "nbformat_minor": 0,
  "metadata": {
    "kernelspec": {
      "display_name": "Python 3",
      "language": "python",
      "name": "python3"
    },
    "language_info": {
      "codemirror_mode": {
        "name": "ipython",
        "version": 3
      },
      "file_extension": ".py",
      "mimetype": "text/x-python",
      "name": "python",
      "nbconvert_exporter": "python",
      "pygments_lexer": "ipython3",
      "version": "3.7.1"
    },
    "colab": {
      "name": "data crowling 2.ipynb",
      "provenance": []
    }
  },
  "cells": [
    {
      "cell_type": "code",
      "metadata": {
        "id": "INyaUke8348k",
        "colab_type": "code",
        "colab": {}
      },
      "source": [
        ""
      ],
      "execution_count": 0,
      "outputs": []
    },
    {
      "cell_type": "code",
      "metadata": {
        "id": "1SrjE0wI3482",
        "colab_type": "code",
        "colab": {}
      },
      "source": [
        "import urllib.request\n",
        "from bs4 import BeautifulSoup\n",
        "import os\n",
        "import csv\n",
        "import re\n",
        "from datetime import datetime\n",
        "\n"
      ],
      "execution_count": 0,
      "outputs": []
    },
    {
      "cell_type": "code",
      "metadata": {
        "id": "DXttogal3488",
        "colab_type": "code",
        "colab": {}
      },
      "source": [
        " "
      ],
      "execution_count": 0,
      "outputs": []
    },
    {
      "cell_type": "code",
      "metadata": {
        "id": "o4O8r2jr349F",
        "colab_type": "code",
        "colab": {}
      },
      "source": [
        "''' Demo web crawling with BeautifulSoup 4 '''\n",
        "\n",
        "\n",
        "def not_relative_uri(href):\n",
        "    #return re.compile('^https://www.prothomalo.com').search(href) is not None\n",
        "    return re.compile('^https://').search(href) is not None\n"
      ],
      "execution_count": 0,
      "outputs": []
    },
    {
      "cell_type": "code",
      "metadata": {
        "id": "Il1JOcGe349K",
        "colab_type": "code",
        "colab": {}
      },
      "source": [
        "def add_feeds(feeds):\n",
        "    for feed in feeds:\n",
        "        # Do some filters before adding\n",
        "        if feed.has_attr('target'):\n",
        "            continue\n",
        "\n",
        "        title = feed.get('title')\n",
        "        link = feed.get('href')\n",
        "        if title is None or link is None:\n",
        "            continue\n",
        "\n",
        "        total_feeds.add((title, link))\n"
      ],
      "execution_count": 0,
      "outputs": []
    },
    {
      "cell_type": "code",
      "metadata": {
        "id": "DU6hQuZM349Q",
        "colab_type": "code",
        "colab": {}
      },
      "source": [
        "def write_to_csv_file(filename):\n",
        "    with open(filename, 'w') as csv_file:\n",
        "        writer = csv.writer(csv_file)\n",
        "        writer.writerow(['Title', 'Link'])\n",
        "\n",
        "        for feed in total_feeds:\n",
        "            writer.writerow(feed)\n",
        "\n",
        "        print('All feeds were stored in file {}'.format(filename))\n"
      ],
      "execution_count": 0,
      "outputs": []
    },
    {
      "cell_type": "code",
      "metadata": {
        "id": "pruHazn4349V",
        "colab_type": "code",
        "colab": {}
      },
      "source": [
        "url = 'https://vnexpress.net/'\n",
        "page = urllib.request.urlopen(url)\n",
        "soup = BeautifulSoup(page, 'html.parser')\n",
        "\n",
        "total_feeds = set()\n",
        "\n",
        "today = datetime.date(datetime.now()).isoformat()\n",
        "data_file = os.path.join(\n",
        "    os.getcwd(), 'data', 'vnexpress_feeds_' + today + '.csv')\n",
        "\n",
        "new_feeds = soup.find(\n",
        "    'section', class_='featured container clearfix').find_all(\n",
        "        'a', class_='', href=not_relative_uri)\n",
        "\n",
        "sidebar_home_1_feeds = soup.find('section', class_='sidebar_home_1').find_all(\n",
        "    'a', class_='', href=not_relative_uri)\n",
        "\n",
        "sidebar_home_2_feeds = soup.find('section', class_='sidebar_home_2').find_all(\n",
        "    'a', class_='', href=not_relative_uri)\n",
        "\n",
        "add_feeds(new_feeds)\n",
        "add_feeds(sidebar_home_1_feeds)\n",
        "add_feeds(sidebar_home_2_feeds)\n"
      ],
      "execution_count": 0,
      "outputs": []
    },
    {
      "cell_type": "code",
      "metadata": {
        "id": "Hirk4q-y349a",
        "colab_type": "code",
        "outputId": "4e128c72-230e-4598-c65a-16acf172b916",
        "colab": {}
      },
      "source": [
        "write_to_csv_file('C:\\\\Users\\\\Sabakat\\\\data\\\\vnexpress_feeds_2019-10-18.csv')"
      ],
      "execution_count": 0,
      "outputs": [
        {
          "output_type": "error",
          "ename": "FileNotFoundError",
          "evalue": "[Errno 2] No such file or directory: 'C:\\\\Users\\\\Sabakat\\\\data\\\\vnexpress_feeds_2019-10-18.csv'",
          "traceback": [
            "\u001b[1;31m---------------------------------------------------------------------------\u001b[0m",
            "\u001b[1;31mFileNotFoundError\u001b[0m                         Traceback (most recent call last)",
            "\u001b[1;32m<ipython-input-17-b1edf1cf43dd>\u001b[0m in \u001b[0;36m<module>\u001b[1;34m\u001b[0m\n\u001b[1;32m----> 1\u001b[1;33m \u001b[0mwrite_to_csv_file\u001b[0m\u001b[1;33m(\u001b[0m\u001b[1;34m'C:\\\\Users\\\\Sabakat\\\\data\\\\vnexpress_feeds_2019-10-18.csv'\u001b[0m\u001b[1;33m)\u001b[0m\u001b[1;33m\u001b[0m\u001b[1;33m\u001b[0m\u001b[0m\n\u001b[0m",
            "\u001b[1;32m<ipython-input-15-be15fa75a53b>\u001b[0m in \u001b[0;36mwrite_to_csv_file\u001b[1;34m(filename)\u001b[0m\n\u001b[0;32m      1\u001b[0m \u001b[1;32mdef\u001b[0m \u001b[0mwrite_to_csv_file\u001b[0m\u001b[1;33m(\u001b[0m\u001b[0mfilename\u001b[0m\u001b[1;33m)\u001b[0m\u001b[1;33m:\u001b[0m\u001b[1;33m\u001b[0m\u001b[1;33m\u001b[0m\u001b[0m\n\u001b[1;32m----> 2\u001b[1;33m     \u001b[1;32mwith\u001b[0m \u001b[0mopen\u001b[0m\u001b[1;33m(\u001b[0m\u001b[0mfilename\u001b[0m\u001b[1;33m,\u001b[0m \u001b[1;34m'w'\u001b[0m\u001b[1;33m)\u001b[0m \u001b[1;32mas\u001b[0m \u001b[0mcsv_file\u001b[0m\u001b[1;33m:\u001b[0m\u001b[1;33m\u001b[0m\u001b[1;33m\u001b[0m\u001b[0m\n\u001b[0m\u001b[0;32m      3\u001b[0m         \u001b[0mwriter\u001b[0m \u001b[1;33m=\u001b[0m \u001b[0mcsv\u001b[0m\u001b[1;33m.\u001b[0m\u001b[0mwriter\u001b[0m\u001b[1;33m(\u001b[0m\u001b[0mcsv_file\u001b[0m\u001b[1;33m)\u001b[0m\u001b[1;33m\u001b[0m\u001b[1;33m\u001b[0m\u001b[0m\n\u001b[0;32m      4\u001b[0m         \u001b[0mwriter\u001b[0m\u001b[1;33m.\u001b[0m\u001b[0mwriterow\u001b[0m\u001b[1;33m(\u001b[0m\u001b[1;33m[\u001b[0m\u001b[1;34m'Title'\u001b[0m\u001b[1;33m,\u001b[0m \u001b[1;34m'Link'\u001b[0m\u001b[1;33m]\u001b[0m\u001b[1;33m)\u001b[0m\u001b[1;33m\u001b[0m\u001b[1;33m\u001b[0m\u001b[0m\n\u001b[0;32m      5\u001b[0m \u001b[1;33m\u001b[0m\u001b[0m\n",
            "\u001b[1;31mFileNotFoundError\u001b[0m: [Errno 2] No such file or directory: 'C:\\\\Users\\\\Sabakat\\\\data\\\\vnexpress_feeds_2019-10-18.csv'"
          ]
        }
      ]
    }
  ]
}