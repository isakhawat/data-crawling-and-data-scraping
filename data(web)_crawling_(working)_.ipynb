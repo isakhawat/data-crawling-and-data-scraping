{
  "nbformat": 4,
  "nbformat_minor": 0,
  "metadata": {
    "kernelspec": {
      "display_name": "Python 3",
      "language": "python",
      "name": "python3"
    },
    "language_info": {
      "codemirror_mode": {
        "name": "ipython",
        "version": 3
      },
      "file_extension": ".py",
      "mimetype": "text/x-python",
      "name": "python",
      "nbconvert_exporter": "python",
      "pygments_lexer": "ipython3",
      "version": "3.7.1"
    },
    "colab": {
      "name": "data(web) crawling (working) .ipynb",
      "provenance": []
    }
  },
  "cells": [
    {
      "cell_type": "markdown",
      "metadata": {
        "id": "_Wa5etuu0TB1",
        "colab_type": "text"
      },
      "source": [
        ""
      ]
    },
    {
      "cell_type": "code",
      "metadata": {
        "id": "jY8hqv5N0TCD",
        "colab_type": "code",
        "colab": {}
      },
      "source": [
        "import urllib.request\n",
        "from bs4 import BeautifulSoup\n",
        "\n"
      ],
      "execution_count": 0,
      "outputs": []
    },
    {
      "cell_type": "code",
      "metadata": {
        "id": "b2QffUp10TCV",
        "colab_type": "code",
        "colab": {}
      },
      "source": [
        "#scraping web link\n",
        "address= 'https://www.rottentomatoes.com/m/incredibles_2/reviews/'\n"
      ],
      "execution_count": 0,
      "outputs": []
    },
    {
      "cell_type": "code",
      "metadata": {
        "scrolled": false,
        "id": "678Pj7uI0TCh",
        "colab_type": "code",
        "colab": {}
      },
      "source": [
        "\n",
        "page = urllib.request.urlopen(address)\n",
        "soup = BeautifulSoup(page,'html.parser')\n",
        "#print full html page of address\n",
        "print (soup.prettify())\n"
      ],
      "execution_count": 0,
      "outputs": []
    },
    {
      "cell_type": "code",
      "metadata": {
        "id": "u6IF_VVq0TCu",
        "colab_type": "code",
        "outputId": "f3071cef-2ce7-4c0d-e07e-a5160e560294",
        "colab": {}
      },
      "source": [
        " "
      ],
      "execution_count": 0,
      "outputs": [
        {
          "output_type": "execute_result",
          "data": {
            "text/plain": [
              "<p class=\"topText bold\"></p>"
            ]
          },
          "metadata": {
            "tags": []
          },
          "execution_count": 9
        }
      ]
    },
    {
      "cell_type": "code",
      "metadata": {
        "id": "apcN767A0TDA",
        "colab_type": "code",
        "outputId": "7ccae1fd-6a3a-429b-b614-1a3f536e234e",
        "colab": {
          "base_uri": "https://localhost:8080/",
          "height": 734
        }
      },
      "source": [
        "#find_all():- python er function jar kaj holo sob kichu tule niye asa\n",
        "\n",
        "#review = soup.find_all('kotha theke niye asbo(div)',say attribute(attrs=){'kothai ase(class)': 'tar name(the_review)'})\n",
        "review = soup.find_all('div',attrs={'class':'the_review'})\n",
        "print (review)"
      ],
      "execution_count": 0,
      "outputs": [
        {
          "output_type": "stream",
          "text": [
            "[<div class=\"the_review\">\n",
            "                                    You're in for a real treat with Incredibles 2.\n",
            "                                </div>, <div class=\"the_review\">\n",
            "                                    [I]f you're going to do a sequel, \"Incredibles 2\" is the way to do it. It echoes all the best things from the original and may have even surpassed the terrific action set-pieces from the first.\n",
            "                                </div>, <div class=\"the_review\">\n",
            "                                    This barely survives its sequel stamp. Fun, fast and precise, Incredibles 2 recycles its formula to be repetitive and not innovative. [Full review in Spanish].\n",
            "                                </div>, <div class=\"the_review\">\n",
            "                                    An amazing sequel to the original film.\n",
            "                                </div>, <div class=\"the_review\">\n",
            "                                    It's disappointing to think the writing of Incredibles 2 initially felt like an homage to Batman: The Animated Series when in reality it's a retelling of the original film. Why does Mr Incredible have to be such a chauvinistic prick though?\n",
            "                                </div>, <div class=\"the_review\">\n",
            "                                    Bird laces in subliminal messages, but the main attraction of Incredibles 2 is the focussed storytelling, the clear and uncluttered animation and unadulterated fun.\n",
            "                                </div>, <div class=\"the_review\">\n",
            "                                    'The incredible 2' is a great sequel that knows how to continue playing with the universe created by its predecessor, and provides us several scenes to remember. [Full Review in Spanish]\n",
            "                                </div>, <div class=\"the_review\">\n",
            "                                    Bird's direction, as you can expect from a veteran with his talent, is simply outstanding. [Full Review in Spanish]\n",
            "                                </div>, <div class=\"the_review\">\n",
            "                                    In this era of superhero movies, Incredibles 2 outshines tentpole films with a familial charm and brilliant animation.\n",
            "                                </div>, <div class=\"the_review\">\n",
            "                                    The film feels like an entertaining riff on The Incredibles more than a fully-developed sequel.\n",
            "                                </div>, <div class=\"the_review\">\n",
            "                                    For a summer hit, though, there's plenty to like.\n",
            "                                </div>, <div class=\"the_review\">\n",
            "                                    Incredibles 2 never justifies \"why now\" or tries to do more than make people who love their families despite life's frustration feel good. That doesn't prevent it from being a very fun, very good movie.\n",
            "                                </div>, <div class=\"the_review\">\n",
            "                                    For all its flash and pizazz, it's the heart that lies at its center that makes it worth returning to this well after 14 years.\n",
            "                                </div>, <div class=\"the_review\">\n",
            "                                    The strongest moments of the film's climax depend on Brad Bird emphasising how one or even two superhero powers working together cannot certify success. In Incredibles 2 it takes a whole village.\n",
            "                                </div>, <div class=\"the_review\">\n",
            "                                    Incredibles 2 brings back the Barr family in this fantastic sequel to one of the best movies Pixar has ever made.\n",
            "                                </div>, <div class=\"the_review\">\n",
            "                                    Sure some parts were predictable, but Incredibles 2 was filled with fun - and lessons for parents and children alike.\n",
            "                                </div>, <div class=\"the_review\">\n",
            "                                    Worth the wait in nearly every manner, Incredibles 2 is arguably the strongest sequel from the Pixar crew outside of the Toy Story series\n",
            "                                </div>, <div class=\"the_review\">\n",
            "                                    Wittily tackles changing gender roles at work and in the home, with Helen relishing her dashing crime-fighting role as the public face of a campaign to make superheroes legal, while the befuddled Bob grapples with his own domestic battles.\n",
            "                                </div>, <div class=\"the_review\">\n",
            "                                    Returning director Brad Bird continues to showcase an eye for exciting and unique action while further endearing us to the Parr family by ensuring that each character is multi-layered and fully realized.\n",
            "                                </div>, <div class=\"the_review\">\n",
            "                                    The characters dictate the plot rather than being instruments in never-ending action; the story grabs your attention, keeps its momentum.\n",
            "                                </div>]\n"
          ],
          "name": "stdout"
        }
      ]
    },
    {
      "cell_type": "code",
      "metadata": {
        "id": "I1SqjSrz0TDO",
        "colab_type": "code",
        "outputId": "3cc23688-5448-451a-cc63-9ce23f907879",
        "colab": {}
      },
      "source": [
        "for i in review:\n",
        "    print(\"review :\")\n",
        "    #get_text: only for text\n",
        "    #print(i.get_text())\n",
        "    print(i.get_text(),\"\\n\")"
      ],
      "execution_count": 0,
      "outputs": [
        {
          "output_type": "stream",
          "text": [
            "review :\n",
            "\n",
            "                                    You're in for a real treat with Incredibles 2.\n",
            "                                 \n",
            "\n",
            "review :\n",
            "\n",
            "                                    [I]f you're going to do a sequel, \"Incredibles 2\" is the way to do it. It echoes all the best things from the original and may have even surpassed the terrific action set-pieces from the first.\n",
            "                                 \n",
            "\n",
            "review :\n",
            "\n",
            "                                    This barely survives its sequel stamp. Fun, fast and precise, Incredibles 2 recycles its formula to be repetitive and not innovative. [Full review in Spanish].\n",
            "                                 \n",
            "\n",
            "review :\n",
            "\n",
            "                                    An amazing sequel to the original film.\n",
            "                                 \n",
            "\n",
            "review :\n",
            "\n",
            "                                    It's disappointing to think the writing of Incredibles 2 initially felt like an homage to Batman: The Animated Series when in reality it's a retelling of the original film. Why does Mr Incredible have to be such a chauvinistic prick though?\n",
            "                                 \n",
            "\n",
            "review :\n",
            "\n",
            "                                    Bird laces in subliminal messages, but the main attraction of Incredibles 2 is the focussed storytelling, the clear and uncluttered animation and unadulterated fun.\n",
            "                                 \n",
            "\n",
            "review :\n",
            "\n",
            "                                    'The incredible 2' is a great sequel that knows how to continue playing with the universe created by its predecessor, and provides us several scenes to remember. [Full Review in Spanish]\n",
            "                                 \n",
            "\n",
            "review :\n",
            "\n",
            "                                    Bird's direction, as you can expect from a veteran with his talent, is simply outstanding. [Full Review in Spanish]\n",
            "                                 \n",
            "\n",
            "review :\n",
            "\n",
            "                                    In this era of superhero movies, Incredibles 2 outshines tentpole films with a familial charm and brilliant animation.\n",
            "                                 \n",
            "\n",
            "review :\n",
            "\n",
            "                                    The film feels like an entertaining riff on The Incredibles more than a fully-developed sequel.\n",
            "                                 \n",
            "\n",
            "review :\n",
            "\n",
            "                                    For a summer hit, though, there's plenty to like.\n",
            "                                 \n",
            "\n",
            "review :\n",
            "\n",
            "                                    Incredibles 2 never justifies \"why now\" or tries to do more than make people who love their families despite life's frustration feel good. That doesn't prevent it from being a very fun, very good movie.\n",
            "                                 \n",
            "\n",
            "review :\n",
            "\n",
            "                                    For all its flash and pizazz, it's the heart that lies at its center that makes it worth returning to this well after 14 years.\n",
            "                                 \n",
            "\n",
            "review :\n",
            "\n",
            "                                    The strongest moments of the film's climax depend on Brad Bird emphasising how one or even two superhero powers working together cannot certify success. In Incredibles 2 it takes a whole village.\n",
            "                                 \n",
            "\n",
            "review :\n",
            "\n",
            "                                    Incredibles 2 brings back the Barr family in this fantastic sequel to one of the best movies Pixar has ever made.\n",
            "                                 \n",
            "\n",
            "review :\n",
            "\n",
            "                                    Sure some parts were predictable, but Incredibles 2 was filled with fun - and lessons for parents and children alike.\n",
            "                                 \n",
            "\n",
            "review :\n",
            "\n",
            "                                    Worth the wait in nearly every manner, Incredibles 2 is arguably the strongest sequel from the Pixar crew outside of the Toy Story series\n",
            "                                 \n",
            "\n",
            "review :\n",
            "\n",
            "                                    Wittily tackles changing gender roles at work and in the home, with Helen relishing her dashing crime-fighting role as the public face of a campaign to make superheroes legal, while the befuddled Bob grapples with his own domestic battles.\n",
            "                                 \n",
            "\n",
            "review :\n",
            "\n",
            "                                    Returning director Brad Bird continues to showcase an eye for exciting and unique action while further endearing us to the Parr family by ensuring that each character is multi-layered and fully realized.\n",
            "                                 \n",
            "\n",
            "review :\n",
            "\n",
            "                                    The characters dictate the plot rather than being instruments in never-ending action; the story grabs your attention, keeps its momentum.\n",
            "                                 \n",
            "\n"
          ],
          "name": "stdout"
        }
      ]
    },
    {
      "cell_type": "code",
      "metadata": {
        "id": "DnxNFsnd0TDb",
        "colab_type": "code",
        "colab": {}
      },
      "source": [
        ""
      ],
      "execution_count": 0,
      "outputs": []
    },
    {
      "cell_type": "code",
      "metadata": {
        "id": "qTnMFQB10TDn",
        "colab_type": "code",
        "colab": {}
      },
      "source": [
        ""
      ],
      "execution_count": 0,
      "outputs": []
    }
  ]
}